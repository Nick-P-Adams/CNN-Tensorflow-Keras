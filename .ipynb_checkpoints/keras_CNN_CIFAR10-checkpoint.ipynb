{
 "cells": [
  {
   "cell_type": "code",
   "execution_count": 1,
   "id": "d7638d17-c088-435a-a71f-fe29abb5d057",
   "metadata": {},
   "outputs": [],
   "source": [
    "# Imports\n",
    "from tensorflow.keras.datasets import cifar10\n",
    "from tensorflow.keras.utils import to_categorical\n",
    "from tensorflow.keras import layers\n",
    "from tensorflow.keras import models"
   ]
  },
  {
   "cell_type": "code",
   "execution_count": 2,
   "id": "b552860e-15e0-4fb5-9fb8-87ea85613247",
   "metadata": {},
   "outputs": [],
   "source": [
    "# Loading and preprocessing data\n",
    "(x_train, y_train), (x_test, y_test) = cifar10.load_data()\n",
    "train_x = x_train.astype('float32') / 255 # normalization\n",
    "test_x = x_test.astype('float32') / 255\n",
    "train_y = to_categorical(y_train) # create label vectors\n",
    "test_y = to_categorical(y_test)"
   ]
  },
  {
   "cell_type": "code",
   "execution_count": 18,
   "id": "da1cc76c-e602-4ad3-9e69-746e45582465",
   "metadata": {},
   "outputs": [
    {
     "name": "stdout",
     "output_type": "stream",
     "text": [
      "Model: \"sequential_9\"\n",
      "_________________________________________________________________\n",
      " Layer (type)                Output Shape              Param #   \n",
      "=================================================================\n",
      " conv2d_22 (Conv2D)          (None, 30, 30, 64)        1792      \n",
      "                                                                 \n",
      " max_pooling2d_20 (MaxPoolin  (None, 15, 15, 64)       0         \n",
      " g2D)                                                            \n",
      "                                                                 \n",
      " conv2d_23 (Conv2D)          (None, 13, 13, 128)       73856     \n",
      "                                                                 \n",
      " max_pooling2d_21 (MaxPoolin  (None, 6, 6, 128)        0         \n",
      " g2D)                                                            \n",
      "                                                                 \n",
      " conv2d_24 (Conv2D)          (None, 4, 4, 256)         295168    \n",
      "                                                                 \n",
      " max_pooling2d_22 (MaxPoolin  (None, 2, 2, 256)        0         \n",
      " g2D)                                                            \n",
      "                                                                 \n",
      " flatten_6 (Flatten)         (None, 1024)              0         \n",
      "                                                                 \n",
      " dense_12 (Dense)            (None, 512)               524800    \n",
      "                                                                 \n",
      " dense_13 (Dense)            (None, 10)                5130      \n",
      "                                                                 \n",
      "=================================================================\n",
      "Total params: 900,746\n",
      "Trainable params: 900,746\n",
      "Non-trainable params: 0\n",
      "_________________________________________________________________\n"
     ]
    }
   ],
   "source": [
    "# Creating model\n",
    "model = models.Sequential()\n",
    "model.add(layers.Conv2D(64, (3, 3), activation='relu', input_shape=(32, 32, 3)))\n",
    "model.add(layers.MaxPooling2D((2, 2)))\n",
    "model.add(layers.Conv2D(128, (3, 3), activation='relu'))\n",
    "model.add(layers.MaxPooling2D((2, 2)))\n",
    "model.add(layers.Conv2D(256, (3, 3), activation='relu'))\n",
    "model.add(layers.MaxPooling2D((2, 2)))\n",
    "model.add(layers.Flatten())\n",
    "model.add(layers.Dense(512, activation='sigmoid'))\n",
    "model.add(layers.Dense(10, activation='softmax'))\n",
    "model.summary()"
   ]
  },
  {
   "cell_type": "code",
   "execution_count": 19,
   "id": "f3cec401-f9a9-400f-ab2d-98db7dc7745c",
   "metadata": {},
   "outputs": [
    {
     "name": "stdout",
     "output_type": "stream",
     "text": [
      "Epoch 1/10\n",
      "782/782 [==============================] - 41s 52ms/step - loss: 1.5963 - accuracy: 0.4188 - val_loss: 1.2567 - val_accuracy: 0.5450\n",
      "Epoch 2/10\n",
      "782/782 [==============================] - 39s 50ms/step - loss: 1.1359 - accuracy: 0.5994 - val_loss: 1.1146 - val_accuracy: 0.6016\n",
      "Epoch 3/10\n",
      "782/782 [==============================] - 39s 49ms/step - loss: 0.9306 - accuracy: 0.6729 - val_loss: 1.1812 - val_accuracy: 0.5905\n",
      "Epoch 4/10\n",
      "782/782 [==============================] - 38s 49ms/step - loss: 0.7844 - accuracy: 0.7242 - val_loss: 1.2106 - val_accuracy: 0.6094\n",
      "Epoch 5/10\n",
      "782/782 [==============================] - 39s 49ms/step - loss: 0.6686 - accuracy: 0.7653 - val_loss: 0.8910 - val_accuracy: 0.6980\n",
      "Epoch 6/10\n",
      "782/782 [==============================] - 39s 49ms/step - loss: 0.5693 - accuracy: 0.8019 - val_loss: 1.0302 - val_accuracy: 0.6785\n",
      "Epoch 7/10\n",
      "782/782 [==============================] - 39s 50ms/step - loss: 0.4813 - accuracy: 0.8317 - val_loss: 0.8856 - val_accuracy: 0.7204\n",
      "Epoch 8/10\n",
      "782/782 [==============================] - 38s 49ms/step - loss: 0.4012 - accuracy: 0.8602 - val_loss: 1.2501 - val_accuracy: 0.6728\n",
      "Epoch 9/10\n",
      "782/782 [==============================] - 39s 49ms/step - loss: 0.3337 - accuracy: 0.8834 - val_loss: 1.1801 - val_accuracy: 0.6575\n",
      "Epoch 10/10\n",
      "782/782 [==============================] - 39s 50ms/step - loss: 0.2776 - accuracy: 0.9023 - val_loss: 0.9225 - val_accuracy: 0.7412\n"
     ]
    }
   ],
   "source": [
    "# Compile run model\n",
    "model.compile(optimizer='rmsprop', loss='categorical_crossentropy', metrics=['accuracy'])\n",
    "\n",
    "history = model.fit(train_x, train_y, batch_size=64, epochs=10, validation_data=(test_x, test_y))"
   ]
  },
  {
   "cell_type": "code",
   "execution_count": null,
   "id": "5da1d826-242a-4c01-8144-5220915ea862",
   "metadata": {},
   "outputs": [],
   "source": []
  }
 ],
 "metadata": {
  "kernelspec": {
   "display_name": "Python 3 (ipykernel)",
   "language": "python",
   "name": "python3"
  },
  "language_info": {
   "codemirror_mode": {
    "name": "ipython",
    "version": 3
   },
   "file_extension": ".py",
   "mimetype": "text/x-python",
   "name": "python",
   "nbconvert_exporter": "python",
   "pygments_lexer": "ipython3",
   "version": "3.9.7"
  }
 },
 "nbformat": 4,
 "nbformat_minor": 5
}
