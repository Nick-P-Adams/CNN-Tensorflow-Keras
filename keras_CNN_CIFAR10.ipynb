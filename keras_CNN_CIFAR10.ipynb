{
 "cells": [
  {
   "cell_type": "code",
   "execution_count": 1,
   "id": "d7638d17-c088-435a-a71f-fe29abb5d057",
   "metadata": {},
   "outputs": [],
   "source": [
    "# Imports\n",
    "from tensorflow.keras.datasets import cifar10\n",
    "from tensorflow.keras.utils import to_categorical\n",
    "from tensorflow.keras import layers\n",
    "from tensorflow.keras import models"
   ]
  },
  {
   "cell_type": "code",
   "execution_count": 2,
   "id": "b552860e-15e0-4fb5-9fb8-87ea85613247",
   "metadata": {},
   "outputs": [],
   "source": [
    "# Loading and preprocessing data\n",
    "(x_train, y_train), (x_test, y_test) = cifar10.load_data()\n",
    "train_x = x_train.astype('float32') / 255 # normalization\n",
    "test_x = x_test.astype('float32') / 255\n",
    "train_y = to_categorical(y_train) # create label vectors\n",
    "test_y = to_categorical(y_test)"
   ]
  },
  {
   "cell_type": "code",
   "execution_count": 3,
   "id": "da1cc76c-e602-4ad3-9e69-746e45582465",
   "metadata": {},
   "outputs": [
    {
     "name": "stdout",
     "output_type": "stream",
     "text": [
      "Model: \"sequential\"\n",
      "_________________________________________________________________\n",
      " Layer (type)                Output Shape              Param #   \n",
      "=================================================================\n",
      " conv2d (Conv2D)             (None, 30, 30, 64)        1792      \n",
      "                                                                 \n",
      " max_pooling2d (MaxPooling2D  (None, 15, 15, 64)       0         \n",
      " )                                                               \n",
      "                                                                 \n",
      " conv2d_1 (Conv2D)           (None, 13, 13, 128)       73856     \n",
      "                                                                 \n",
      " max_pooling2d_1 (MaxPooling  (None, 6, 6, 128)        0         \n",
      " 2D)                                                             \n",
      "                                                                 \n",
      " conv2d_2 (Conv2D)           (None, 4, 4, 256)         295168    \n",
      "                                                                 \n",
      " max_pooling2d_2 (MaxPooling  (None, 2, 2, 256)        0         \n",
      " 2D)                                                             \n",
      "                                                                 \n",
      " flatten (Flatten)           (None, 1024)              0         \n",
      "                                                                 \n",
      " dense (Dense)               (None, 512)               524800    \n",
      "                                                                 \n",
      " dense_1 (Dense)             (None, 10)                5130      \n",
      "                                                                 \n",
      "=================================================================\n",
      "Total params: 900,746\n",
      "Trainable params: 900,746\n",
      "Non-trainable params: 0\n",
      "_________________________________________________________________\n"
     ]
    }
   ],
   "source": [
    "# Creating model\n",
    "model = models.Sequential()\n",
    "model.add(layers.Conv2D(64, (3, 3), activation='relu', input_shape=(32, 32, 3)))\n",
    "model.add(layers.MaxPooling2D((2, 2)))\n",
    "model.add(layers.Conv2D(128, (3, 3), activation='relu'))\n",
    "model.add(layers.MaxPooling2D((2, 2)))\n",
    "model.add(layers.Conv2D(256, (3, 3), activation='relu'))\n",
    "model.add(layers.MaxPooling2D((2, 2)))\n",
    "model.add(layers.Flatten())\n",
    "model.add(layers.Dense(512, activation='sigmoid'))\n",
    "model.add(layers.Dense(10, activation='softmax'))\n",
    "model.summary()"
   ]
  },
  {
   "cell_type": "code",
   "execution_count": 4,
   "id": "f3cec401-f9a9-400f-ab2d-98db7dc7745c",
   "metadata": {},
   "outputs": [
    {
     "name": "stdout",
     "output_type": "stream",
     "text": [
      "Epoch 1/10\n",
      "782/782 [==============================] - 85s 108ms/step - loss: 1.6028 - accuracy: 0.4184 - val_loss: 1.3073 - val_accuracy: 0.5303\n",
      "Epoch 2/10\n",
      "782/782 [==============================] - 85s 109ms/step - loss: 1.1449 - accuracy: 0.5947 - val_loss: 1.1278 - val_accuracy: 0.5907\n",
      "Epoch 3/10\n",
      "782/782 [==============================] - 85s 109ms/step - loss: 0.9268 - accuracy: 0.6750 - val_loss: 1.0259 - val_accuracy: 0.6410\n",
      "Epoch 4/10\n",
      "782/782 [==============================] - 3669s 5s/step - loss: 0.7836 - accuracy: 0.7245 - val_loss: 0.9428 - val_accuracy: 0.6779\n",
      "Epoch 5/10\n",
      "782/782 [==============================] - 85s 109ms/step - loss: 0.6725 - accuracy: 0.7638 - val_loss: 0.8682 - val_accuracy: 0.6937\n",
      "Epoch 6/10\n",
      "782/782 [==============================] - 71s 90ms/step - loss: 0.5690 - accuracy: 0.8011 - val_loss: 1.2837 - val_accuracy: 0.6390\n",
      "Epoch 7/10\n",
      "782/782 [==============================] - 41s 52ms/step - loss: 0.4876 - accuracy: 0.8299 - val_loss: 0.8557 - val_accuracy: 0.7213\n",
      "Epoch 8/10\n",
      "782/782 [==============================] - 41s 53ms/step - loss: 0.4106 - accuracy: 0.8576 - val_loss: 0.9232 - val_accuracy: 0.7219\n",
      "Epoch 9/10\n",
      "782/782 [==============================] - 41s 52ms/step - loss: 0.3433 - accuracy: 0.8801 - val_loss: 1.0180 - val_accuracy: 0.7175\n",
      "Epoch 10/10\n",
      "782/782 [==============================] - 41s 52ms/step - loss: 0.2897 - accuracy: 0.8996 - val_loss: 0.9683 - val_accuracy: 0.7311\n"
     ]
    }
   ],
   "source": [
    "# Compile run model\n",
    "model.compile(optimizer='rmsprop', loss='categorical_crossentropy', metrics=['accuracy'])\n",
    "\n",
    "history = model.fit(train_x, train_y, batch_size=64, epochs=10, validation_data=(test_x, test_y))"
   ]
  },
  {
   "cell_type": "code",
   "execution_count": 6,
   "id": "5da1d826-242a-4c01-8144-5220915ea862",
   "metadata": {},
   "outputs": [],
   "source": [
    "model.save(\"nick_model.h5\")"
   ]
  },
  {
   "cell_type": "code",
   "execution_count": null,
   "id": "1762b96c-96e3-4072-9197-301dcd4d42dd",
   "metadata": {},
   "outputs": [],
   "source": []
  }
 ],
 "metadata": {
  "kernelspec": {
   "display_name": "Python 3 (ipykernel)",
   "language": "python",
   "name": "python3"
  },
  "language_info": {
   "codemirror_mode": {
    "name": "ipython",
    "version": 3
   },
   "file_extension": ".py",
   "mimetype": "text/x-python",
   "name": "python",
   "nbconvert_exporter": "python",
   "pygments_lexer": "ipython3",
   "version": "3.9.7"
  }
 },
 "nbformat": 4,
 "nbformat_minor": 5
}
